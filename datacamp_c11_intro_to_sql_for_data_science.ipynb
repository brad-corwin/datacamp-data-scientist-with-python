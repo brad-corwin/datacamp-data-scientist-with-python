{
 "cells": [
  {
   "cell_type": "code",
   "execution_count": null,
   "metadata": {},
   "outputs": [],
   "source": [
    "SELECT 'SQL is cool!'\n",
    "AS result;\n",
    "\n",
    "SELECT title, release_year from films;"
   ]
  },
  {
   "cell_type": "markdown",
   "metadata": {},
   "source": [
    "SQL interacts with a relational database.\n",
    "\n",
    "A relational database is a collection of tables.\n",
    "\n",
    "WHERE allows you to filter based on text and numeric values\n",
    "\n",
    "IN specify multiple OR conditions\n",
    "\n",
    "BETWEEN specifies an inclusive range of values\n",
    "\n",
    "LIKE is like WHERE but with wildcards (%, _)\n",
    "\n",
    "SUM, AVG, MIN, MAX\n",
    "\n",
    "AS aliasing, reassign with a temporary name\n",
    "\n",
    "ORDER BY sorts in ascending order, goes at end of query\n",
    "\n",
    "DESC sorts in descending order\n",
    "\n",
    "GROUP BY allows you to group results by 1 or more columns"
   ]
  },
  {
   "cell_type": "code",
   "execution_count": null,
   "metadata": {},
   "outputs": [],
   "source": [
    "SELECT DISTINCT country FROM films; # unique countries\n",
    "\n",
    "SELECT COUNT(*)\n",
    "FROM reviews; # how many records\n",
    "\n",
    "SELECT * FROM films WHERE release_year = 2016;\n",
    "SELECT COUNT(*) FROM films WHERE release_year < 2000;\n",
    "\n",
    "SELECT title, release_year FROM films WHERE language = 'Spanish' AND release_year < 2000;\n",
    "\n",
    "SELECT title, release_year FROM films WHERE release_year >= 1990 AND release_year < 2000;\n",
    "AND (language = 'French' OR language='Spanish') AND gross > 2000000;\n",
    "\n",
    "SELECT title, release_year FROM films WHERE release_year BETWEEN 1990 AND 2000;\n",
    "AND budget > 100000000 AND (language = 'Spanish' OR language = 'French');\n",
    "\n",
    "SELECT title, release_year FROM films WHERE release_year IN (1990, 2000) AND duration > 120;\n",
    "SELECT title, language FROM films WHERE language IN ('English', 'Spanish', 'French');\n",
    "\n",
    "SELECT name FROM people WHERE deathdate IS NULL;\n",
    "SELECT COUNT(*) FROM films WHERE language IS NULL;\n",
    "\n",
    "SELECT name FROM people WHERE name LIKE 'B%';\n",
    "SELECT name FROM people WHERE name NOT LIKE 'A%';\n",
    "\n",
    "SELECT title, (gross - budget) AS net_profit FROM films;\n",
    "\n",
    "SELECT (COUNT(deathdate) * 100.00) / COUNT(*) AS percentage_dead FROM people;\n",
    "SELECT (MAX(release_year) - MIN(release_year))/10.0 AS number_of_decades FROM films;\n",
    "\n",
    "SELECT title FROM films WHERE release_year IN (2000, 2012) ORDER BY release_year;\n",
    "\n",
    "SELECT release_year, country, max(budget) FROM films \n",
    "GROUP BY release_year, country \n",
    "ORDER BY release_year, country;\n",
    "\n",
    "SELECT release_year, AVG(budget) as avg_budget, AVG(gross) as avg_gross FROM films\n",
    "WHERE release_year > 1990 \n",
    "GROUP BY release_year\n",
    "HAVING AVG(budget) > 60000000\n",
    "ORDER BY AVG(gross);"
   ]
  }
 ],
 "metadata": {
  "kernelspec": {
   "display_name": "Python 3",
   "language": "python",
   "name": "python3"
  },
  "language_info": {
   "codemirror_mode": {
    "name": "ipython",
    "version": 3
   },
   "file_extension": ".py",
   "mimetype": "text/x-python",
   "name": "python",
   "nbconvert_exporter": "python",
   "pygments_lexer": "ipython3",
   "version": "3.6.5"
  }
 },
 "nbformat": 4,
 "nbformat_minor": 2
}
