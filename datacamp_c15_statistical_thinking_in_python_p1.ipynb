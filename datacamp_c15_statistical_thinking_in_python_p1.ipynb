{
 "cells": [
  {
   "cell_type": "markdown",
   "metadata": {},
   "source": [
    "median is the 50th percentile\n",
    "\n",
    "boxplot\n",
    "middle is median\n",
    "edges are 25th and 75th percentile\n",
    "\n",
    "box has 50% of the data, called the InterQuartile Range (IQR)\n",
    "whiskers extend 1.5x the IQR\n",
    "\n",
    "variance is the squared difference from the mean\n",
    "\n",
    "sqrt of variance is standard deviation - spread of data\n",
    "\n",
    "covariance - how two quantities vary together, mean of product of differences\n",
    "if x is high, so is y, highly correlated\n",
    "\n",
    "Pearson correlation coefficient\n",
    "rho\n",
    "comparison of variability in data due to codependence / independent variability\n",
    "\n",
    "PMF - probability mass function\n",
    "set of probabilities of discrete outcomes\n",
    "\n",
    "PMF, CDF, ECDF\n",
    "\n",
    "Poisson\n",
    "timing of next event is completely irrelevant of what previously happened\n",
    "Poisson distributed\n",
    "lambda average number of arrivals in a general number of time\n",
    "\n",
    "low p, high n binomial dist is Poisson\n",
    "\n",
    "continuous quantities\n",
    "\n",
    "PDF - probability density function\n",
    "observing a value of a cts variable\n",
    "area under curve\n",
    "\n",
    "normal dist - bell curve\n",
    "mean - center of peak\n",
    "std - how wide the peak is\n",
    "\n",
    "The value of the CDF at x = 10 is 0.75, so the probability that x < 10 is 0.75. Thus, the probability that x > 10 is 0.25.\n",
    "\n",
    "mean/std of distribution is not the same as the one computed from the data"
   ]
  }
 ],
 "metadata": {
  "kernelspec": {
   "display_name": "Python 3",
   "language": "python",
   "name": "python3"
  },
  "language_info": {
   "codemirror_mode": {
    "name": "ipython",
    "version": 3
   },
   "file_extension": ".py",
   "mimetype": "text/x-python",
   "name": "python",
   "nbconvert_exporter": "python",
   "pygments_lexer": "ipython3",
   "version": "3.6.5"
  }
 },
 "nbformat": 4,
 "nbformat_minor": 2
}
