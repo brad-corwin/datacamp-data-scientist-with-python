{
 "cells": [
  {
   "cell_type": "markdown",
   "metadata": {},
   "source": [
    "# Course 2: Intermediate Python for Data Science"
   ]
  },
  {
   "cell_type": "code",
   "execution_count": null,
   "metadata": {},
   "outputs": [],
   "source": [
    "plt.scatter(x,y)\n",
    "plt.xscale('log')\n",
    "\n",
    "# Build histogram with 5 bins\n",
    "plt.hist(life_exp, bins=5)\n",
    "\n",
    "# Show and clean up plot\n",
    "plt.show()\n",
    "plt.clf()\n",
    "\n",
    "# s = size\n",
    "plt.scatter(gdp_cap, life_exp, s = np_pop)"
   ]
  },
  {
   "cell_type": "markdown",
   "metadata": {},
   "source": [
    "**List** is indexed by numbers\n",
    "Collection of values\n",
    "\n",
    "Order matters\n",
    "\n",
    "select entire subsets\n",
    "\n",
    "**Dictionary** indexed by keys\n",
    "\n",
    "lookup table"
   ]
  },
  {
   "cell_type": "code",
   "execution_count": null,
   "metadata": {},
   "outputs": [],
   "source": [
    "# Add italy to europe\n",
    "europe['italy'] = 'rome'\n",
    "\n",
    "# Print out italy in europe\n",
    "print('italy' in europe)\n",
    "\n",
    "# Remove australia\n",
    "del europe['australia']\n",
    "\n",
    "# Print out the capital of France\n",
    "print(europe['france']['capital'])\n",
    "\n",
    "# Create sub-dictionary data\n",
    "data = {'capital': 'rome', 'population': 59.83}\n",
    "\n",
    "# Add data to europe under key 'italy'\n",
    "europe['italy'] = data"
   ]
  },
  {
   "cell_type": "markdown",
   "metadata": {},
   "source": [
    "## pandas\n",
    "row is observation\n",
    "\n",
    "col is variable\n",
    "\n",
    "pandas is good becasue numpy only holds the data of the same data type\n",
    "\n",
    "more high level than numpy, built on numpy\n",
    "\n",
    "panda dataframes have a row label and column label"
   ]
  },
  {
   "cell_type": "code",
   "execution_count": null,
   "metadata": {},
   "outputs": [],
   "source": [
    "import pandas as pd\n",
    "\n",
    "brics = pd.read_csv('brics.csv', index_col=0)\n",
    "\n",
    "# Specify row labels of cars\n",
    "cars.index = row_labels\n",
    "\n",
    "# Import the cars.csv data: cars\n",
    "cars = pd.read_csv('cars.csv', index_col=0)\n",
    "\n",
    "# Panda series 1D labelled array\n",
    "brics[\"country\"]\n",
    "\n",
    "# first few elements\n",
    "brics[0:3]\n",
    "\n",
    "# Keep it as a dataframe, rows only\n",
    "brics[[\"country\", \"capital\"]]\n",
    "\n",
    "# loc - select data based on labels, can select row and columns by using their row labels\n",
    "brics.loc[[\"RU\"]]\n",
    "brics.loc[[\"RU\"], [\"country\", \"capital\"]]\n",
    "\n",
    "# iloc - select data based on position, can select row and columns \n",
    "brics.iloc[:, [0,1]]\n",
    "\n",
    "# ix combines loc and iloc\n",
    "\n",
    "# Create car_maniac: observations that have a cars_per_cap over 500\n",
    "cpc = cars['cars_per_cap']\n",
    "many_cars = cpc > 500\n",
    "car_maniac = cars[many_cars]\n",
    "\n",
    "# Create medium: observations with cars_per_cap between 100 and 500\n",
    "cpc = cars['cars_per_cap']\n",
    "between = np.logical_and(cpc > 100, cpc < 500)\n",
    "medium = cars[between]"
   ]
  },
  {
   "cell_type": "code",
   "execution_count": null,
   "metadata": {},
   "outputs": [],
   "source": [
    "# Numpy logical operators\n",
    "np.logical_and()\n",
    "np.logical_or()\n",
    "np.logical_not()"
   ]
  },
  {
   "cell_type": "code",
   "execution_count": null,
   "metadata": {},
   "outputs": [],
   "source": [
    "# Loops\n",
    "for index, a in enumerate(areas) :\n",
    "    print(\"room \" + str(index) + \": \" + str(a))\n",
    "    \n",
    "for x in house:\n",
    "    print(\"the \" + str(x[0]) + \" is \" + str(x[1]) + \" sqm\")\n",
    "    \n",
    "for key, value in europe.items():\n",
    "    print(\"the capital of \" + key + \" is \" + value)\n",
    "\n",
    "# For loop over np_height 1D only\n",
    "for x in np_height:\n",
    "    print(str(x) + \" inches\")\n",
    "\n",
    "# For loop over np_baseball\n",
    "for x in np.nditer(np_baseball):\n",
    "    print(str(x))\n",
    "    \n",
    "# Iterate over rows of cars\n",
    "for label, row in cars.iterrows() :\n",
    "    print(label + \": \" + str(row[\"cars_per_cap\"]))\n",
    "    \n",
    "cars[\"COUNTRY\"] = cars[\"country\"].apply(str.upper)"
   ]
  },
  {
   "cell_type": "code",
   "execution_count": null,
   "metadata": {},
   "outputs": [],
   "source": [
    "# Randomness\n",
    "np.random.rand()\n",
    "\n",
    "print(np.random.randint(1, 7))\n",
    "\n",
    "# Random Walk\n",
    "# steps must be based on previous steps\n",
    "step = max(0, step - 1)"
   ]
  },
  {
   "cell_type": "code",
   "execution_count": 1,
   "metadata": {},
   "outputs": [
    {
     "name": "stdout",
     "output_type": "stream",
     "text": [
      "[0, 3, 4, 5, 4, 5, 6, 7, 6, 5, 4, 3, 2, 1, 0, -1, 0, 5, 4, 3, 4, 3, 4, 5, 6, 7, 8, 7, 8, 7, 8, 9, 10, 11, 10, 14, 15, 14, 15, 14, 15, 16, 17, 18, 19, 20, 21, 24, 25, 26, 27, 32, 33, 37, 38, 37, 38, 39, 38, 39, 40, 42, 43, 44, 43, 42, 43, 44, 43, 42, 43, 44, 46, 45, 44, 45, 44, 45, 46, 47, 49, 48, 49, 50, 51, 52, 53, 52, 51, 52, 51, 52, 53, 52, 55, 56, 57, 58, 57, 58, 59]\n"
     ]
    }
   ],
   "source": [
    "# Import numpy and set seed\n",
    "import numpy as np\n",
    "np.random.seed(123)\n",
    "\n",
    "# Initialize random_walk\n",
    "random_walk = [0]\n",
    "\n",
    "# Complete the ___\n",
    "for x in range(100) :\n",
    "    # Set step: last element in random_walk\n",
    "    step = random_walk[-1]\n",
    "\n",
    "    # Roll the dice\n",
    "    dice = np.random.randint(1,7)\n",
    "\n",
    "    # Determine next step\n",
    "    if dice <= 2:\n",
    "        step = step - 1\n",
    "    elif dice <= 5:\n",
    "        step = step + 1\n",
    "    else:\n",
    "        step = step + np.random.randint(1,7)\n",
    "\n",
    "    # append next_step to random_walk\n",
    "    random_walk.append(step)\n",
    "\n",
    "# Print random_walk\n",
    "print(random_walk)"
   ]
  },
  {
   "cell_type": "markdown",
   "metadata": {},
   "source": [
    "each walk gives you different steps -> distribution of final steps\n",
    "if you do thousands of runs, it starts forming a bell shape"
   ]
  },
  {
   "cell_type": "code",
   "execution_count": null,
   "metadata": {},
   "outputs": [],
   "source": [
    "# Convert all_walks to Numpy array: np_aw\n",
    "np_aw = np.array(all_walks)\n",
    "\n",
    "# Plot np_aw and show\n",
    "plt.plot(np_aw)\n",
    "plt.show()\n",
    "\n",
    "# Clear the figure\n",
    "plt.clf()\n",
    "\n",
    "# Transpose np_aw: np_aw_t\n",
    "np_aw_t = np.transpose(np_aw)\n",
    "\n",
    "# Plot np_aw_t and show\n",
    "plt.plot(np_aw_t)\n",
    "plt.show()\n",
    "\n",
    "# Implement clumsiness\n",
    "if np.random.rand() <= 0.001 :\n",
    "    step = 0\n",
    "    \n",
    "np.sum(ends >= 60)"
   ]
  }
 ],
 "metadata": {
  "kernelspec": {
   "display_name": "Python 3",
   "language": "python",
   "name": "python3"
  },
  "language_info": {
   "codemirror_mode": {
    "name": "ipython",
    "version": 3
   },
   "file_extension": ".py",
   "mimetype": "text/x-python",
   "name": "python",
   "nbconvert_exporter": "python",
   "pygments_lexer": "ipython3",
   "version": "3.6.5"
  }
 },
 "nbformat": 4,
 "nbformat_minor": 2
}
