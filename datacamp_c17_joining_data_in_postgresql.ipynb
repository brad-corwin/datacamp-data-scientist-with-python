{
 "cells": [
  {
   "cell_type": "markdown",
   "metadata": {},
   "source": [
    "inner and left joins are the most used"
   ]
  },
  {
   "cell_type": "code",
   "execution_count": null,
   "metadata": {},
   "outputs": [],
   "source": [
    "SELECT c.code AS country_code, c.name, e.year, e.inflation_rate\n",
    "FROM countries AS c\n",
    "INNER JOIN economies AS e\n",
    "ON c.code = e.code;"
   ]
  },
  {
   "cell_type": "code",
   "execution_count": null,
   "metadata": {},
   "outputs": [],
   "source": [
    "SELECT c.code, name, region, e.year, fertility_rate, unemployment_rate\n",
    "FROM countries AS c\n",
    "INNER JOIN populations AS p\n",
    "ON c.code = p.country_code\n",
    "INNER JOIN economies AS e\n",
    "ON c.code = e.code AND e.year = p.year;"
   ]
  },
  {
   "cell_type": "code",
   "execution_count": null,
   "metadata": {},
   "outputs": [],
   "source": [
    "SELECT c.name AS country, continent, l.name AS language, l.official\n",
    "FROM countries AS c\n",
    "INNER JOIN languages AS l\n",
    "USING (code);"
   ]
  },
  {
   "cell_type": "code",
   "execution_count": null,
   "metadata": {},
   "outputs": [],
   "source": [
    "SELECT name, continent, code, surface_area,\n",
    "        -- first case\n",
    "    CASE WHEN surface_area > 2000000 THEN 'large'\n",
    "        -- second case\n",
    "        WHEN surface_area > 350000 THEN 'medium'\n",
    "        -- else clause + end\n",
    "        ELSE 'small' END\n",
    "        AS geosize_group\n",
    "FROM countries;"
   ]
  },
  {
   "cell_type": "code",
   "execution_count": null,
   "metadata": {},
   "outputs": [],
   "source": [
    "SELECT country_code, size,\n",
    "  CASE WHEN size > 50000000\n",
    "            THEN 'large'\n",
    "       WHEN size > 1000000\n",
    "            THEN 'medium'\n",
    "       ELSE 'small' END\n",
    "       AS popsize_group\n",
    "INTO pop_plus       \n",
    "FROM populations\n",
    "WHERE year = 2015;\n",
    "\n",
    "SELECT name, continent, geosize_group, popsize_group\n",
    "FROM countries_plus AS c\n",
    "INNER JOIN pop_plus AS p\n",
    "ON c.code = p.country_code\n",
    "ORDER BY geosize_group;"
   ]
  },
  {
   "cell_type": "code",
   "execution_count": null,
   "metadata": {},
   "outputs": [],
   "source": [
    "SELECT code, year\n",
    "FROM economies\n",
    "UNION ALL\n",
    "SELECT country_code, year\n",
    "FROM populations\n",
    "ORDER BY code, year;"
   ]
  },
  {
   "cell_type": "code",
   "execution_count": null,
   "metadata": {},
   "outputs": [],
   "source": [
    "SELECT city.name\n",
    "FROM cities AS city\n",
    "EXCEPT\n",
    "SELECT country.capital\n",
    "FROM countries AS country\n",
    "ORDER BY name;"
   ]
  },
  {
   "cell_type": "code",
   "execution_count": null,
   "metadata": {},
   "outputs": [],
   "source": [
    "SELECT countries.name AS country, COUNT(*) AS cities_num\n",
    "FROM cities\n",
    "INNER JOIN countries\n",
    "ON countries.code = cities.country_code\n",
    "GROUP BY country\n",
    "ORDER BY cities_num DESC, country\n",
    "LIMIT 9;\n",
    "\n",
    "\n",
    "SELECT countries.name AS country, COUNT(*) AS cities_num\n",
    "FROM cities\n",
    "INNER JOIN countries\n",
    "ON countries.code = cities.country_code\n",
    "GROUP BY country\n",
    "ORDER BY cities_num DESC, country\n",
    "LIMIT 9;"
   ]
  },
  {
   "cell_type": "code",
   "execution_count": null,
   "metadata": {},
   "outputs": [],
   "source": [
    "SELECT name, continent, inflation_rate\n",
    "FROM countries\n",
    "INNER JOIN economies\n",
    "ON countries.code = economies.code\n",
    "WHERE year = 2015\n",
    "    AND inflation_rate IN (\n",
    "        SELECT MAX(inflation_rate) AS max_inf\n",
    "        FROM (\n",
    "             SELECT name, continent, inflation_rate\n",
    "             FROM countries\n",
    "             INNER JOIN economies\n",
    "             ON countries.code = economies.code\n",
    "             WHERE year = 2015) AS subquery\n",
    "        GROUP BY continent);"
   ]
  },
  {
   "cell_type": "code",
   "execution_count": null,
   "metadata": {},
   "outputs": [],
   "source": [
    "SELECT DISTINCT c.name, e.total_investment, e.imports\n",
    "FROM countries AS c\n",
    "LEFT JOIN economies AS e\n",
    "ON (c.code = e.code AND c.code IN \n",
    "    (SELECT code \n",
    "    FROM languages\n",
    "    WHERE official = 'true'))\n",
    "WHERE year = 2015 AND region = 'Central America'\n",
    "ORDER BY c.name;"
   ]
  }
 ],
 "metadata": {
  "kernelspec": {
   "display_name": "Python 3",
   "language": "python",
   "name": "python3"
  },
  "language_info": {
   "codemirror_mode": {
    "name": "ipython",
    "version": 3
   },
   "file_extension": ".py",
   "mimetype": "text/x-python",
   "name": "python",
   "nbconvert_exporter": "python",
   "pygments_lexer": "ipython3",
   "version": "3.6.5"
  }
 },
 "nbformat": 4,
 "nbformat_minor": 2
}
